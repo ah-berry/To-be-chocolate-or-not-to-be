{
 "cells": [
  {
   "cell_type": "markdown",
   "metadata": {},
   "source": [
    "This will be a Jupyter notebook demonstration in R that utilizes a logistic regression model to yield a prediction accuracy of the number of times it accurately determines whether a candy in question is chocolate-based or not. The candy data is data collected from Walt Hickey's \"What's the Best Halloween Candy?\" experiment. \n",
    "\n",
    "More information on the experiment and dataset can be found here: https://fivethirtyeight.com/features/the-ultimate-halloween-candy-power-ranking/     "
   ]
  },
  {
   "cell_type": "markdown",
   "metadata": {},
   "source": [
    "First off, you will need to individually import the data file \"candy-data\" into R by setting your corresponding working directory to the specific location of the data file. "
   ]
  },
  {
   "cell_type": "code",
   "execution_count": 161,
   "metadata": {},
   "outputs": [],
   "source": [
    "#Insert your working directory path as an argument of the setwd function\n",
    "setwd()"
   ]
  },
  {
   "cell_type": "code",
   "execution_count": null,
   "metadata": {},
   "outputs": [],
   "source": [
    "# Import the data file \"candy-data\" into R\n",
    "candy <- read.csv()"
   ]
  },
  {
   "cell_type": "markdown",
   "metadata": {},
   "source": [
    "Next, let's take a look at the dataset itself."
   ]
  },
  {
   "cell_type": "code",
   "execution_count": 159,
   "metadata": {
    "scrolled": true
   },
   "outputs": [
    {
     "name": "stdout",
     "output_type": "stream",
     "text": [
      "'data.frame':\t85 obs. of  13 variables:\n",
      " $ competitorname  : Factor w/ 85 levels \"100 Grand\",\"3 Musketeers\",..: 1 2 45 46 3 4 5 6 7 8 ...\n",
      " $ chocolate       : int  1 1 0 0 0 1 1 0 0 0 ...\n",
      " $ fruity          : int  0 0 0 0 1 0 0 0 0 1 ...\n",
      " $ caramel         : int  1 0 0 0 0 0 1 0 0 1 ...\n",
      " $ peanutyalmondy  : int  0 0 0 0 0 1 1 1 0 0 ...\n",
      " $ nougat          : int  0 1 0 0 0 0 1 0 0 0 ...\n",
      " $ crispedricewafer: int  1 0 0 0 0 0 0 0 0 0 ...\n",
      " $ hard            : int  0 0 0 0 0 0 0 0 0 0 ...\n",
      " $ bar             : int  1 1 0 0 0 1 1 0 0 0 ...\n",
      " $ pluribus        : int  0 0 0 0 0 0 0 1 1 0 ...\n",
      " $ sugarpercent    : num  0.732 0.604 0.011 0.011 0.906 ...\n",
      " $ pricepercent    : num  0.86 0.511 0.116 0.511 0.511 ...\n",
      " $ winpercent      : num  67 67.6 32.3 46.1 52.3 ...\n"
     ]
    },
    {
     "data": {
      "text/html": [
       "<table>\n",
       "<thead><tr><th scope=col>competitorname</th><th scope=col>chocolate</th><th scope=col>fruity</th><th scope=col>caramel</th><th scope=col>peanutyalmondy</th><th scope=col>nougat</th><th scope=col>crispedricewafer</th><th scope=col>hard</th><th scope=col>bar</th><th scope=col>pluribus</th><th scope=col>sugarpercent</th><th scope=col>pricepercent</th><th scope=col>winpercent</th></tr></thead>\n",
       "<tbody>\n",
       "\t<tr><td>100 Grand   </td><td>1           </td><td>0           </td><td>1           </td><td>0           </td><td>0           </td><td>1           </td><td>0           </td><td>1           </td><td>0           </td><td>0.732       </td><td>0.860       </td><td>66.97173    </td></tr>\n",
       "\t<tr><td>3 Musketeers</td><td>1           </td><td>0           </td><td>0           </td><td>0           </td><td>1           </td><td>0           </td><td>0           </td><td>1           </td><td>0           </td><td>0.604       </td><td>0.511       </td><td>67.60294    </td></tr>\n",
       "\t<tr><td>One dime    </td><td>0           </td><td>0           </td><td>0           </td><td>0           </td><td>0           </td><td>0           </td><td>0           </td><td>0           </td><td>0           </td><td>0.011       </td><td>0.116       </td><td>32.26109    </td></tr>\n",
       "\t<tr><td>One quarter </td><td>0           </td><td>0           </td><td>0           </td><td>0           </td><td>0           </td><td>0           </td><td>0           </td><td>0           </td><td>0           </td><td>0.011       </td><td>0.511       </td><td>46.11650    </td></tr>\n",
       "\t<tr><td>Air Heads   </td><td>0           </td><td>1           </td><td>0           </td><td>0           </td><td>0           </td><td>0           </td><td>0           </td><td>0           </td><td>0           </td><td>0.906       </td><td>0.511       </td><td>52.34146    </td></tr>\n",
       "\t<tr><td>Almond Joy  </td><td>1           </td><td>0           </td><td>0           </td><td>1           </td><td>0           </td><td>0           </td><td>0           </td><td>1           </td><td>0           </td><td>0.465       </td><td>0.767       </td><td>50.34755    </td></tr>\n",
       "</tbody>\n",
       "</table>\n"
      ],
      "text/latex": [
       "\\begin{tabular}{r|lllllllllllll}\n",
       " competitorname & chocolate & fruity & caramel & peanutyalmondy & nougat & crispedricewafer & hard & bar & pluribus & sugarpercent & pricepercent & winpercent\\\\\n",
       "\\hline\n",
       "\t 100 Grand    & 1            & 0            & 1            & 0            & 0            & 1            & 0            & 1            & 0            & 0.732        & 0.860        & 66.97173    \\\\\n",
       "\t 3 Musketeers & 1            & 0            & 0            & 0            & 1            & 0            & 0            & 1            & 0            & 0.604        & 0.511        & 67.60294    \\\\\n",
       "\t One dime     & 0            & 0            & 0            & 0            & 0            & 0            & 0            & 0            & 0            & 0.011        & 0.116        & 32.26109    \\\\\n",
       "\t One quarter  & 0            & 0            & 0            & 0            & 0            & 0            & 0            & 0            & 0            & 0.011        & 0.511        & 46.11650    \\\\\n",
       "\t Air Heads    & 0            & 1            & 0            & 0            & 0            & 0            & 0            & 0            & 0            & 0.906        & 0.511        & 52.34146    \\\\\n",
       "\t Almond Joy   & 1            & 0            & 0            & 1            & 0            & 0            & 0            & 1            & 0            & 0.465        & 0.767        & 50.34755    \\\\\n",
       "\\end{tabular}\n"
      ],
      "text/markdown": [
       "\n",
       "competitorname | chocolate | fruity | caramel | peanutyalmondy | nougat | crispedricewafer | hard | bar | pluribus | sugarpercent | pricepercent | winpercent | \n",
       "|---|---|---|---|---|---|\n",
       "| 100 Grand    | 1            | 0            | 1            | 0            | 0            | 1            | 0            | 1            | 0            | 0.732        | 0.860        | 66.97173     | \n",
       "| 3 Musketeers | 1            | 0            | 0            | 0            | 1            | 0            | 0            | 1            | 0            | 0.604        | 0.511        | 67.60294     | \n",
       "| One dime     | 0            | 0            | 0            | 0            | 0            | 0            | 0            | 0            | 0            | 0.011        | 0.116        | 32.26109     | \n",
       "| One quarter  | 0            | 0            | 0            | 0            | 0            | 0            | 0            | 0            | 0            | 0.011        | 0.511        | 46.11650     | \n",
       "| Air Heads    | 0            | 1            | 0            | 0            | 0            | 0            | 0            | 0            | 0            | 0.906        | 0.511        | 52.34146     | \n",
       "| Almond Joy   | 1            | 0            | 0            | 1            | 0            | 0            | 0            | 1            | 0            | 0.465        | 0.767        | 50.34755     | \n",
       "\n",
       "\n"
      ],
      "text/plain": [
       "  competitorname chocolate fruity caramel peanutyalmondy nougat\n",
       "1 100 Grand      1         0      1       0              0     \n",
       "2 3 Musketeers   1         0      0       0              1     \n",
       "3 One dime       0         0      0       0              0     \n",
       "4 One quarter    0         0      0       0              0     \n",
       "5 Air Heads      0         1      0       0              0     \n",
       "6 Almond Joy     1         0      0       1              0     \n",
       "  crispedricewafer hard bar pluribus sugarpercent pricepercent winpercent\n",
       "1 1                0    1   0        0.732        0.860        66.97173  \n",
       "2 0                0    1   0        0.604        0.511        67.60294  \n",
       "3 0                0    0   0        0.011        0.116        32.26109  \n",
       "4 0                0    0   0        0.011        0.511        46.11650  \n",
       "5 0                0    0   0        0.906        0.511        52.34146  \n",
       "6 0                0    1   0        0.465        0.767        50.34755  "
      ]
     },
     "metadata": {},
     "output_type": "display_data"
    }
   ],
   "source": [
    "#Viewing the structure of the dataset\n",
    "str(candy)\n",
    "head(candy)"
   ]
  },
  {
   "cell_type": "markdown",
   "metadata": {},
   "source": [
    "Seeing how the premise of this notebook is to determine whether a specific candy is made out of chocolate or not, this would imply a binary outcome. Luckily within this \"candy-data\" dataset, we will be using \"chocolate\" as the categorical response variable we'll be trying to predict. Due to the fact that our response variable is binomial with two outcomes,\"0\" (not chocolate) and \"1\" (is chocolate), this is where the reasoning behind using logistic regression model comes from. Lastly as shown in the previous cell, \"chocolate\" is of data type \"int\" which isn't what we want. \"Chocolate\" as a data type of \"Factor\" more suits our needs due to once again, its categorical quality.    "
   ]
  },
  {
   "cell_type": "code",
   "execution_count": 160,
   "metadata": {},
   "outputs": [
    {
     "name": "stdout",
     "output_type": "stream",
     "text": [
      "'data.frame':\t85 obs. of  13 variables:\n",
      " $ competitorname  : Factor w/ 85 levels \"100 Grand\",\"3 Musketeers\",..: 1 2 45 46 3 4 5 6 7 8 ...\n",
      " $ chocolate       : Factor w/ 2 levels \"0\",\"1\": 2 2 1 1 1 2 2 1 1 1 ...\n",
      " $ fruity          : int  0 0 0 0 1 0 0 0 0 1 ...\n",
      " $ caramel         : int  1 0 0 0 0 0 1 0 0 1 ...\n",
      " $ peanutyalmondy  : int  0 0 0 0 0 1 1 1 0 0 ...\n",
      " $ nougat          : int  0 1 0 0 0 0 1 0 0 0 ...\n",
      " $ crispedricewafer: int  1 0 0 0 0 0 0 0 0 0 ...\n",
      " $ hard            : int  0 0 0 0 0 0 0 0 0 0 ...\n",
      " $ bar             : int  1 1 0 0 0 1 1 0 0 0 ...\n",
      " $ pluribus        : int  0 0 0 0 0 0 0 1 1 0 ...\n",
      " $ sugarpercent    : num  0.732 0.604 0.011 0.011 0.906 ...\n",
      " $ pricepercent    : num  0.86 0.511 0.116 0.511 0.511 ...\n",
      " $ winpercent      : num  67 67.6 32.3 46.1 52.3 ...\n"
     ]
    }
   ],
   "source": [
    "#Changing the values for chocolate from data type 'int' to 'Factor'\n",
    "candy$chocolate <- as.factor(candy$chocolate)\n",
    "str(candy)"
   ]
  },
  {
   "cell_type": "code",
   "execution_count": 121,
   "metadata": {
    "scrolled": true
   },
   "outputs": [
    {
     "data": {
      "text/plain": [
       "            competitorname chocolate     fruity          caramel      \n",
       " 100 Grand         : 1     0:48      Min.   :0.0000   Min.   :0.0000  \n",
       " 3 Musketeers      : 1     1:37      1st Qu.:0.0000   1st Qu.:0.0000  \n",
       " Air Heads         : 1               Median :0.0000   Median :0.0000  \n",
       " Almond Joy        : 1               Mean   :0.4471   Mean   :0.1647  \n",
       " Baby Ruth         : 1               3rd Qu.:1.0000   3rd Qu.:0.0000  \n",
       " Boston Baked Beans: 1               Max.   :1.0000   Max.   :1.0000  \n",
       " (Other)           :79                                                \n",
       " peanutyalmondy       nougat        crispedricewafer       hard       \n",
       " Min.   :0.0000   Min.   :0.00000   Min.   :0.00000   Min.   :0.0000  \n",
       " 1st Qu.:0.0000   1st Qu.:0.00000   1st Qu.:0.00000   1st Qu.:0.0000  \n",
       " Median :0.0000   Median :0.00000   Median :0.00000   Median :0.0000  \n",
       " Mean   :0.1647   Mean   :0.08235   Mean   :0.08235   Mean   :0.1765  \n",
       " 3rd Qu.:0.0000   3rd Qu.:0.00000   3rd Qu.:0.00000   3rd Qu.:0.0000  \n",
       " Max.   :1.0000   Max.   :1.00000   Max.   :1.00000   Max.   :1.0000  \n",
       "                                                                      \n",
       "      bar            pluribus       sugarpercent     pricepercent   \n",
       " Min.   :0.0000   Min.   :0.0000   Min.   :0.0110   Min.   :0.0110  \n",
       " 1st Qu.:0.0000   1st Qu.:0.0000   1st Qu.:0.2200   1st Qu.:0.2550  \n",
       " Median :0.0000   Median :1.0000   Median :0.4650   Median :0.4650  \n",
       " Mean   :0.2471   Mean   :0.5176   Mean   :0.4786   Mean   :0.4689  \n",
       " 3rd Qu.:0.0000   3rd Qu.:1.0000   3rd Qu.:0.7320   3rd Qu.:0.6510  \n",
       " Max.   :1.0000   Max.   :1.0000   Max.   :0.9880   Max.   :0.9760  \n",
       "                                                                    \n",
       "   winpercent   \n",
       " Min.   :22.45  \n",
       " 1st Qu.:39.14  \n",
       " Median :47.83  \n",
       " Mean   :50.32  \n",
       " 3rd Qu.:59.86  \n",
       " Max.   :84.18  \n",
       "                "
      ]
     },
     "metadata": {},
     "output_type": "display_data"
    }
   ],
   "source": [
    "#Viewing the summary statistics of the candy dataset\n",
    "summary(candy)"
   ]
  },
  {
   "cell_type": "markdown",
   "metadata": {},
   "source": [
    "We should now think about creating a training set and testing set. Training set to train our logistic regression model and testing set to predict the accuracy of our model against. We want to split our full data into 80/20 training and testing partitions respectively."
   ]
  },
  {
   "cell_type": "code",
   "execution_count": 169,
   "metadata": {},
   "outputs": [],
   "source": [
    "#Creating the training and testing data\n",
    "set.seed(100)\n",
    "ind <- sample(2, nrow(candy), replace = T, prob = c(0.8,0.2))\n",
    "train <- candy[ind==1,]\n",
    "test <- candy[ind==2,]"
   ]
  },
  {
   "cell_type": "markdown",
   "metadata": {},
   "source": [
    "Now that training and testing sets have been created, let's create our logistic regression model on the training set. We will be using chocolate as our response variable with \"pricepercent\" and \"winpercent\" as our predicators."
   ]
  },
  {
   "cell_type": "code",
   "execution_count": 164,
   "metadata": {},
   "outputs": [
    {
     "data": {
      "text/plain": [
       "\n",
       "Call:\n",
       "glm(formula = chocolate ~ pricepercent + winpercent, family = \"binomial\", \n",
       "    data = train)\n",
       "\n",
       "Deviance Residuals: \n",
       "    Min       1Q   Median       3Q      Max  \n",
       "-1.4791  -0.4903  -0.2213   0.3311   2.8018  \n",
       "\n",
       "Coefficients:\n",
       "             Estimate Std. Error z value Pr(>|z|)    \n",
       "(Intercept)  -8.57937    1.93765  -4.428 9.52e-06 ***\n",
       "pricepercent  3.78913    1.37634   2.753 0.005904 ** \n",
       "winpercent    0.12578    0.03334   3.773 0.000161 ***\n",
       "---\n",
       "Signif. codes:  0 ‘***’ 0.001 ‘**’ 0.01 ‘*’ 0.05 ‘.’ 0.1 ‘ ’ 1\n",
       "\n",
       "(Dispersion parameter for binomial family taken to be 1)\n",
       "\n",
       "    Null deviance: 93.190  on 68  degrees of freedom\n",
       "Residual deviance: 48.137  on 66  degrees of freedom\n",
       "AIC: 54.137\n",
       "\n",
       "Number of Fisher Scoring iterations: 5\n"
      ]
     },
     "metadata": {},
     "output_type": "display_data"
    }
   ],
   "source": [
    "#Creating a logistic regression model on the training set\n",
    "chocolate_logistic_model <- glm(chocolate ~  pricepercent + winpercent, \n",
    "                                 data = train, family = 'binomial')\n",
    "summary(chocolate_logistic_model)"
   ]
  },
  {
   "cell_type": "markdown",
   "metadata": {},
   "source": [
    "Following the creation of our logistic model, we build a \"predictTest\" variable to hold the predicted confidence values of our testing set. The cutoff to determine what candy is or isn't chocolate will be settled at 0.5 and higher."
   ]
  },
  {
   "cell_type": "code",
   "execution_count": 166,
   "metadata": {},
   "outputs": [],
   "source": [
    "#Making predictions on the testing set and setting a prediction cutoff\n",
    "predictTest <- predict(chocolate_logistic_model, newdata=test, type = \"response\")\n",
    "prediction_cutoff <- ifelse(predictTest>0.5,1,0)"
   ]
  },
  {
   "cell_type": "markdown",
   "metadata": {},
   "source": [
    "Afterwards, we will be creating a confusion matrix that gives us a tabular visualization of the number of times our model correctly predicted chocolate or not against what was actually recorded in the testing set."
   ]
  },
  {
   "cell_type": "code",
   "execution_count": 152,
   "metadata": {
    "scrolled": false
   },
   "outputs": [
    {
     "data": {
      "text/plain": [
       "         Actual\n",
       "Predicted 0 1\n",
       "        0 6 2\n",
       "        1 1 7"
      ]
     },
     "metadata": {},
     "output_type": "display_data"
    }
   ],
   "source": [
    "#Creating the confusion matrix\n",
    "confusion_matrix <- table(Predicted = prediction_cutoff, Actual = test$chocolate)\n",
    "confusion_matrix "
   ]
  },
  {
   "cell_type": "markdown",
   "metadata": {},
   "source": [
    "Finally, we calculate the accuracy percentage of how well our model did against the testing set. We can come to this value by dividing the number of times our model correctly predicted the candy was and wasn't chocolate over the frequency of all the possible outcome combinations.  "
   ]
  },
  {
   "cell_type": "code",
   "execution_count": 163,
   "metadata": {},
   "outputs": [
    {
     "data": {
      "text/html": [
       "0.8125"
      ],
      "text/latex": [
       "0.8125"
      ],
      "text/markdown": [
       "0.8125"
      ],
      "text/plain": [
       "[1] 0.8125"
      ]
     },
     "metadata": {},
     "output_type": "display_data"
    }
   ],
   "source": [
    "#Determining the accuracy of our model as a percentage\n",
    "accuracy <- sum(diag(confusion_matrix))/sum(confusion_matrix)\n",
    "accuracy"
   ]
  },
  {
   "cell_type": "markdown",
   "metadata": {},
   "source": [
    "Our model scored an 81% accuracy percentage. This is not too bad especially given that our dataset is very small to begin with and our training set smaller. "
   ]
  }
 ],
 "metadata": {
  "kernelspec": {
   "display_name": "R",
   "language": "R",
   "name": "ir"
  },
  "language_info": {
   "codemirror_mode": "r",
   "file_extension": ".r",
   "mimetype": "text/x-r-source",
   "name": "R",
   "pygments_lexer": "r",
   "version": "3.5.1"
  }
 },
 "nbformat": 4,
 "nbformat_minor": 2
}
